{
 "cells": [
  {
   "cell_type": "markdown",
   "id": "4c9c8491",
   "metadata": {},
   "source": [
    "# Object-Oriented Programming (OOP) in Python\n",
    "Object-Oriented Programming is a programming paradigm that uses objects and classes to structure code. Python supports OOP features such as classes, objects, inheritance, encapsulation, and polymorphism."
   ]
  },
  {
   "cell_type": "markdown",
   "id": "0f5704a1",
   "metadata": {},
   "source": [
    "## Class and Object\n",
    "A **class** is a blueprint for creating objects. An **object** is an instance of a class."
   ]
  },
  {
   "cell_type": "code",
   "execution_count": null,
   "id": "b5094c60",
   "metadata": {},
   "outputs": [],
   "source": [
    "class Person:\n",
    "    def __init__(self, name, age):\n",
    "        self.name = name\n",
    "        self.age = age\n",
    "\n",
    "    def greet(self):\n",
    "        print(f\"Hello, my name is {self.name} and I am {self.age} years old.\")\n",
    "\n",
    "# Creating an object\n",
    "p1 = Person(\"Awais\", 25)\n",
    "p1.greet()\n"
   ]
  },
  {
   "cell_type": "markdown",
   "id": "5e0d8d40",
   "metadata": {},
   "source": [
    "## Inheritance\n",
    "Inheritance allows one class to inherit properties and methods from another class."
   ]
  },
  {
   "cell_type": "code",
   "execution_count": null,
   "id": "0fe861c4",
   "metadata": {},
   "outputs": [],
   "source": [
    "class Student(Person):\n",
    "    def __init__(self, name, age, student_id):\n",
    "        super().__init__(name, age)\n",
    "        self.student_id = student_id\n",
    "\n",
    "    def display_id(self):\n",
    "        print(f\"My student ID is {self.student_id}\")\n",
    "\n",
    "# Creating a student object\n",
    "s1 = Student(\"Hanif\", 22, \"CS101\")\n",
    "s1.greet()\n",
    "s1.display_id()\n"
   ]
  },
  {
   "cell_type": "markdown",
   "id": "e4e3642b",
   "metadata": {},
   "source": [
    "## Encapsulation\n",
    "Encapsulation is the concept of restricting access to methods and variables."
   ]
  },
  {
   "cell_type": "code",
   "execution_count": null,
   "id": "a13c539f",
   "metadata": {},
   "outputs": [],
   "source": [
    "class BankAccount:\n",
    "    def __init__(self, balance):\n",
    "        self.__balance = balance  # private variable\n",
    "\n",
    "    def deposit(self, amount):\n",
    "        self.__balance += amount\n",
    "\n",
    "    def get_balance(self):\n",
    "        return self.__balance\n",
    "\n",
    "account = BankAccount(1000)\n",
    "account.deposit(500)\n",
    "print(\"Balance:\", account.get_balance())\n"
   ]
  },
  {
   "cell_type": "markdown",
   "id": "4878aef1",
   "metadata": {},
   "source": [
    "## Polymorphism\n",
    "Polymorphism allows different classes to be treated as instances of the same class through a common interface."
   ]
  },
  {
   "cell_type": "code",
   "execution_count": null,
   "id": "2a02bb56",
   "metadata": {},
   "outputs": [],
   "source": [
    "class Dog:\n",
    "    def speak(self):\n",
    "        return \"Woof!\"\n",
    "\n",
    "class Cat:\n",
    "    def speak(self):\n",
    "        return \"Meow!\"\n",
    "\n",
    "def animal_sound(animal):\n",
    "    print(animal.speak())\n",
    "\n",
    "dog = Dog()\n",
    "cat = Cat()\n",
    "\n",
    "animal_sound(dog)\n",
    "animal_sound(cat)\n"
   ]
  }
 ],
 "metadata": {},
 "nbformat": 4,
 "nbformat_minor": 5
}