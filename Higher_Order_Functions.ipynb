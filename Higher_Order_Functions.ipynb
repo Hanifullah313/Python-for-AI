{
 "cells": [
  {
   "cell_type": "markdown",
   "id": "9969a41f",
   "metadata": {},
   "source": [
    "# 📘 Higher-Order Functions in Python\n",
    "Learn how to use `map`, `filter`, `reduce`, and lambda functions in Python."
   ]
  },
  {
   "cell_type": "markdown",
   "id": "c35414a8",
   "metadata": {},
   "source": [
    "## ✅ What are Higher-Order Functions?\n",
    "A **higher-order function** is a function that:\n",
    "- Takes another function as an argument, or\n",
    "- Returns a function as a result.\n",
    "\n",
    "Python treats functions as **first-class citizens**, so you can pass them around like variables."
   ]
  },
  {
   "cell_type": "markdown",
   "id": "4a19a46b",
   "metadata": {},
   "source": [
    "### Common Higher-Order Functions:\n",
    "| Function | Description |\n",
    "|----------|-------------|\n",
    "| `map()`  | Applies a function to all items in an iterable |\n",
    "| `filter()` | Filters items in an iterable using a condition |\n",
    "| `reduce()` | Applies a function cumulatively (from functools) |\n",
    "| `lambda` | Anonymous function used with higher-order functions |"
   ]
  },
  {
   "cell_type": "code",
   "execution_count": 1,
   "id": "28dd5141",
   "metadata": {},
   "outputs": [
    {
     "name": "stdout",
     "output_type": "stream",
     "text": [
      "Squares: [1, 4, 9, 16, 25, 36]\n",
      "Even Numbers: [2, 4, 6]\n",
      "Product of all numbers: 720\n",
      "Hello, Hanif!\n"
     ]
    }
   ],
   "source": [
    "from functools import reduce\n",
    "\n",
    "# Sample list of numbers\n",
    "numbers = [1, 2, 3, 4, 5, 6]\n",
    "\n",
    "# 1. map() – Square each number\n",
    "squared = list(map(lambda x: x ** 2, numbers))\n",
    "print(\"Squares:\", squared)  # Output: [1, 4, 9, 16, 25, 36]\n",
    "\n",
    "# 2. filter() – Filter even numbers\n",
    "even_numbers = list(filter(lambda x: x % 2 == 0, numbers))\n",
    "print(\"Even Numbers:\", even_numbers)  # Output: [2, 4, 6]\n",
    "\n",
    "# 3. reduce() – Multiply all numbers together\n",
    "product = reduce(lambda x, y: x * y, numbers)\n",
    "print(\"Product of all numbers:\", product)  # Output: 720\n",
    "\n",
    "# 4. Passing a function to another function\n",
    "def greet(name):\n",
    "    return f\"Hello, {name}!\"\n",
    "\n",
    "def custom_greeting(func, user_name):\n",
    "    return func(user_name)\n",
    "\n",
    "print(custom_greeting(greet, \"Hanif\"))  # Output: Hello, Hanif!\n"
   ]
  },
  {
   "cell_type": "markdown",
   "id": "2a827809",
   "metadata": {},
   "source": [
    "## 🧠 Summary\n",
    "- Higher-order functions allow more flexible, functional-style code.\n",
    "- Useful in data processing, AI pipelines, and clean code design."
   ]
  }
 ],
 "metadata": {
  "kernelspec": {
   "display_name": "Awfera",
   "language": "python",
   "name": "python3"
  },
  "language_info": {
   "codemirror_mode": {
    "name": "ipython",
    "version": 3
   },
   "file_extension": ".py",
   "mimetype": "text/x-python",
   "name": "python",
   "nbconvert_exporter": "python",
   "pygments_lexer": "ipython3",
   "version": "3.10.18"
  }
 },
 "nbformat": 4,
 "nbformat_minor": 5
}
