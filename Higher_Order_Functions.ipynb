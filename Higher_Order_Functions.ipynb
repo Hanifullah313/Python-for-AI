{
 "cells": [
  {
   "cell_type": "markdown",
   "id": "9969a41f",
   "metadata": {},
   "source": [
    "# 📘 Higher-Order Functions in Python\n",
    "Learn how to use `map`, `filter`, `reduce`, and lambda functions in Python."
   ]
  },
  {
   "cell_type": "markdown",
   "id": "c35414a8",
   "metadata": {},
   "source": [
    "## ✅ What are Higher-Order Functions?\n",
    "A **higher-order function** is a function that:\n",
    "- Takes another function as an argument, or\n",
    "- Returns a function as a result.\n",
    "\n",
    "Python treats functions as **first-class citizens**, so you can pass them around like variables."
   ]
  },
  {
   "cell_type": "markdown",
   "id": "4a19a46b",
   "metadata": {},
   "source": [
    "### Common Higher-Order Functions:\n",
    "| Function | Description |\n",
    "|----------|-------------|\n",
    "| `map()`  | Applies a function to all items in an iterable |\n",
    "| `filter()` | Filters items in an iterable using a condition |\n",
    "| `reduce()` | Applies a function cumulatively (from functools) |\n",
    "| `lambda` | Anonymous function used with higher-order functions |"
   ]
  },
  {
   "cell_type": "code",
   "execution_count": null,
   "id": "28dd5141",
   "metadata": {},
   "outputs": [
    {
     "ename": "TypeError",
     "evalue": "<lambda>() missing 1 required positional argument: 'y'",
     "output_type": "error",
     "traceback": [
      "\u001b[1;31m---------------------------------------------------------------------------\u001b[0m",
      "\u001b[1;31mTypeError\u001b[0m                                 Traceback (most recent call last)",
      "Cell \u001b[1;32mIn[2], line 8\u001b[0m\n\u001b[0;32m      6\u001b[0m \u001b[38;5;66;03m# 1. map() – Square each number\u001b[39;00m\n\u001b[0;32m      7\u001b[0m squared \u001b[38;5;241m=\u001b[39m \u001b[38;5;28mlist\u001b[39m(\u001b[38;5;28mmap\u001b[39m(\u001b[38;5;28;01mlambda\u001b[39;00m x: x \u001b[38;5;241m*\u001b[39m\u001b[38;5;241m*\u001b[39m \u001b[38;5;241m2\u001b[39m, numbers))\n\u001b[1;32m----> 8\u001b[0m sumof \u001b[38;5;241m=\u001b[39m \u001b[38;5;28;43mlist\u001b[39;49m\u001b[43m(\u001b[49m\u001b[38;5;28;43mmap\u001b[39;49m\u001b[43m(\u001b[49m\u001b[38;5;28;43;01mlambda\u001b[39;49;00m\u001b[43m \u001b[49m\u001b[43mx\u001b[49m\u001b[43m \u001b[49m\u001b[43m,\u001b[49m\u001b[43m \u001b[49m\u001b[43my\u001b[49m\u001b[43m \u001b[49m\u001b[43m:\u001b[49m\u001b[43m \u001b[49m\u001b[43mx\u001b[49m\u001b[38;5;241;43m+\u001b[39;49m\u001b[43my\u001b[49m\u001b[43m \u001b[49m\u001b[43m,\u001b[49m\u001b[43m \u001b[49m\u001b[43mnumbers\u001b[49m\u001b[43m)\u001b[49m\u001b[43m)\u001b[49m\n\u001b[0;32m      9\u001b[0m \u001b[38;5;28mprint\u001b[39m(\u001b[38;5;124m\"\u001b[39m\u001b[38;5;124mSquares:\u001b[39m\u001b[38;5;124m\"\u001b[39m, squared)  \u001b[38;5;66;03m# Output: [1, 4, 9, 16, 25, 36]\u001b[39;00m\n\u001b[0;32m     10\u001b[0m \u001b[38;5;28mprint\u001b[39m(\u001b[38;5;124m\"\u001b[39m\u001b[38;5;124msum of pairs:\u001b[39m\u001b[38;5;124m\"\u001b[39m, sumof)  \n",
      "\u001b[1;31mTypeError\u001b[0m: <lambda>() missing 1 required positional argument: 'y'"
     ]
    }
   ],
   "source": [
    "from functools import reduce\n",
    "\n",
    "# Sample list of numbers\n",
    "numbers = [1, 2, 3, 4, 5, 6]\n",
    "\n",
    "# 1. map() – Square each number\n",
    "squared = list(map(lambda x: x ** 2, numbers))\n",
    "sumof = list(map(lambda x, y: x+y , numbers))\n",
    "print(\"Squares:\", squared)  # Output: [1, 4, 9, 16, 25, 36]\n",
    "print(\"sum of pairs:\", sumof)  \n",
    "\n",
    "# 2. filter() – Filter even numbers\n",
    "even_numbers = list(filter(lambda x: x % 2 == 0, numbers))\n",
    "print(\"Even Numbers:\", even_numbers)  # Output: [2, 4, 6]\n",
    "\n",
    "# 3. reduce() – Multiply all numbers together\n",
    "product = reduce(lambda x, y: x * y, numbers)\n",
    "print(\"Product of all numbers:\", product)  # Output: 720\n",
    "\n",
    "# 4. Passing a function to another function\n",
    "def greet(name):\n",
    "    return f\"Hello, {name}!\"\n",
    "\n",
    "def custom_greeting(func, user_name):\n",
    "    return func(user_name)\n",
    "\n",
    "print(custom_greeting(greet, \"Hanif\"))  # Output: Hello, Hanif!\n"
   ]
  },
  {
   "cell_type": "markdown",
   "id": "2a827809",
   "metadata": {},
   "source": [
    "## 🧠 Summary\n",
    "- Higher-order functions allow more flexible, functional-style code.\n",
    "- Useful in data processing, AI pipelines, and clean code design."
   ]
  }
 ],
 "metadata": {
  "kernelspec": {
   "display_name": "Awfera",
   "language": "python",
   "name": "python3"
  },
  "language_info": {
   "codemirror_mode": {
    "name": "ipython",
    "version": 3
   },
   "file_extension": ".py",
   "mimetype": "text/x-python",
   "name": "python",
   "nbconvert_exporter": "python",
   "pygments_lexer": "ipython3",
   "version": "3.10.18"
  }
 },
 "nbformat": 4,
 "nbformat_minor": 5
}
