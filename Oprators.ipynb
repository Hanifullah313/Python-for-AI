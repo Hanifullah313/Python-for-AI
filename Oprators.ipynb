{
 "cells": [
  {
   "cell_type": "markdown",
   "id": "dab80614",
   "metadata": {},
   "source": [
    "# ⚙️ Python for AI – Operators\n",
    "\n",
    "In this notebook, we’ll explore different types of **operators** in Python.\n",
    "\n",
    "### You will learn about:\n",
    "- Arithmetic Operators\n",
    "- Assignment Operators\n",
    "- Comparison Operators\n",
    "- Logical Operators\n",
    "- Identity Operators\n",
    "- Membership Operators\n",
    "\n",
    "These are fundamental tools for building logic in Python. Let’s begin! 🚀\n"
   ]
  },
  {
   "cell_type": "code",
   "execution_count": null,
   "id": "2408b1d9",
   "metadata": {},
   "outputs": [],
   "source": [
    "# 🔢 Arithmetic Operators\n",
    "a = 10\n",
    "b = 3\n",
    "\n",
    "print(\"Addition:       \", a + b)\n",
    "print(\"Subtraction:    \", a - b)\n",
    "print(\"Multiplication: \", a * b)\n",
    "print(\"Division:       \", a / b)\n",
    "print(\"Floor Division: \", a // b)\n",
    "print(\"Modulus:        \", a % b)\n",
    "print(\"Exponent:       \", a ** b)\n"
   ]
  },
  {
   "cell_type": "markdown",
   "id": "750ee7a3",
   "metadata": {},
   "source": [
    "## 📝 Assignment Operators\n",
    "\n",
    "Used to assign values to variables:\n",
    "\n",
    "| Operator | Example | Meaning             |\n",
    "|----------|---------|---------------------|\n",
    "| =        | a = 5   | Assign value        |\n",
    "| +=       | a += 5  | a = a + 5           |\n",
    "| -=       | a -= 5  | a = a - 5           |\n",
    "| *=       | a *= 5  | a = a * 5           |\n",
    "| /=       | a /= 5  | a = a / 5           |\n",
    "| %=       | a %= 5  | a = a % 5           |\n",
    "| **=      | a **= 5 | a = a ** 5          |\n",
    "| //=      | a //= 5 | a = a // 5          |\n"
   ]
  },
  {
   "cell_type": "code",
   "execution_count": null,
   "id": "fb1cca98",
   "metadata": {},
   "outputs": [],
   "source": [
    "# 📝 Assignment Operators in action\n",
    "x = 10\n",
    "print(\"Original x:\", x)\n",
    "\n",
    "x += 2\n",
    "print(\"After += 2:\", x)\n",
    "\n",
    "x *= 3\n",
    "print(\"After *= 3:\", x)\n",
    "\n",
    "x %= 4\n",
    "print(\"After %= 4:\", x)\n"
   ]
  },
  {
   "cell_type": "markdown",
   "id": "e714b844",
   "metadata": {},
   "source": [
    "## 🧮 Comparison Operators\n",
    "\n",
    "Used to compare two values. Always return `True` or `False`.\n",
    "\n",
    "| Operator | Meaning            |\n",
    "|----------|--------------------|\n",
    "| ==       | Equal to           |\n",
    "| !=       | Not equal to       |\n",
    "| >        | Greater than       |\n",
    "| <        | Less than          |\n",
    "| >=       | Greater or equal   |\n",
    "| <=       | Less or equal      |\n"
   ]
  },
  {
   "cell_type": "code",
   "execution_count": null,
   "id": "9884bb43",
   "metadata": {},
   "outputs": [],
   "source": [
    "# 🧮 Comparison Operators\n",
    "a = 10\n",
    "b = 5\n",
    "\n",
    "print(\"a == b:\", a == b)\n",
    "print(\"a != b:\", a != b)\n",
    "print(\"a > b: \", a > b)\n",
    "print(\"a < b: \", a < b)\n",
    "print(\"a >= b:\", a >= b)\n",
    "print(\"a <= b:\", a <= b)\n"
   ]
  },
  {
   "cell_type": "markdown",
   "id": "f9353f0d",
   "metadata": {},
   "source": [
    "## 🧠 Logical Operators\n",
    "\n",
    "Used to combine conditional statements:\n",
    "\n",
    "| Operator | Description                     |\n",
    "|----------|---------------------------------|\n",
    "| and      | True if both statements are true |\n",
    "| or       | True if at least one is true     |\n",
    "| not      | Reverse the result               |\n"
   ]
  },
  {
   "cell_type": "code",
   "execution_count": null,
   "id": "fe95b35f",
   "metadata": {},
   "outputs": [],
   "source": [
    "# 🧠 Logical Operators\n",
    "x = True\n",
    "y = False\n",
    "\n",
    "print(\"x and y:\", x and y)   # False\n",
    "print(\"x or y: \", x or y)    # True\n",
    "print(\"not x:  \", not x)     # False\n"
   ]
  },
  {
   "cell_type": "code",
   "execution_count": null,
   "id": "21ba3328",
   "metadata": {},
   "outputs": [],
   "source": [
    "# 🧠 Logical Operators\n",
    "x = True\n",
    "y = False\n",
    "\n",
    "print(\"x and y:\", x and y)   # False\n",
    "print(\"x or y: \", x or y)    # True\n",
    "print(\"not x:  \", not x)     # False\n"
   ]
  },
  {
   "cell_type": "markdown",
   "id": "04603a22",
   "metadata": {},
   "source": [
    "## 🆔 Identity Operators\n",
    "\n",
    "Used to compare **memory locations** of two objects:\n",
    "\n",
    "- `is` → True if both refer to the same object\n",
    "- `is not` → True if they do **not** refer to the same object\n"
   ]
  },
  {
   "cell_type": "code",
   "execution_count": null,
   "id": "9e17d498",
   "metadata": {},
   "outputs": [],
   "source": [
    "# 🆔 Identity Operators\n",
    "a = [1, 2]\n",
    "b = a\n",
    "c = [1, 2]\n",
    "\n",
    "print(\"a is b:\", a is b)       # True\n",
    "print(\"a is c:\", a is c)       # False\n",
    "print(\"a == c:\", a == c)       # True (values are equal)\n",
    "print(\"a is not c:\", a is not c)  # True\n"
   ]
  },
  {
   "cell_type": "markdown",
   "id": "f1c511d4",
   "metadata": {},
   "source": [
    "## 🔍 Membership Operators\n",
    "\n",
    "Used to test if a value is present in a sequence (like a list, string, etc):\n",
    "\n",
    "- `in` → True if present\n",
    "- `not in` → True if not present\n"
   ]
  },
  {
   "cell_type": "code",
   "execution_count": null,
   "id": "3cea5a8f",
   "metadata": {},
   "outputs": [],
   "source": [
    "# 🔍 Membership Operators\n",
    "fruits = [\"apple\", \"banana\", \"cherry\"]\n",
    "\n",
    "print(\"banana in fruits:\", \"banana\" in fruits)    # True\n",
    "print(\"mango not in fruits:\", \"mango\" not in fruits)  # True\n"
   ]
  },
  {
   "cell_type": "markdown",
   "id": "c8867609",
   "metadata": {},
   "source": [
    "## ✅ Summary of Python Operators\n",
    "\n",
    "| Category        | Operators                            |\n",
    "|-----------------|--------------------------------------|\n",
    "| Arithmetic      | `+`, `-`, `*`, `/`, `//`, `%`, `**` |\n",
    "| Assignment      | `=`, `+=`, `-=`, `*=`, `/=`, `//=`, `%=`, `**=` |\n",
    "| Comparison      | `==`, `!=`, `>`, `<`, `>=`, `<=`     |\n",
    "| Logical         | `and`, `or`, `not`                   |\n",
    "| Identity        | `is`, `is not`                       |\n",
    "| Membership      | `in`, `not in`                       |\n",
    "\n",
    "Operators are essential for writing conditions, loops, and logic in your Python code.\n",
    "\n",
    "\n"
   ]
  }
 ],
 "metadata": {
  "kernelspec": {
   "display_name": "Awfera",
   "language": "python",
   "name": "python3"
  },
  "language_info": {
   "name": "python",
   "version": "3.10.18"
  }
 },
 "nbformat": 4,
 "nbformat_minor": 5
}
