{
 "cells": [
  {
   "cell_type": "markdown",
   "id": "0cb64dc8",
   "metadata": {},
   "source": [
    "# 🧩 Python Decorators\n",
    "Learn how to use decorators to modify or extend the behavior of functions."
   ]
  },
  {
   "cell_type": "markdown",
   "id": "62b03444",
   "metadata": {},
   "source": [
    "## 📘 What is a Decorator?\n",
    "A **decorator** in Python is a function that takes another function and extends its behavior without explicitly modifying it.\n",
    "\n",
    "Decorators are commonly used in:\n",
    "- Logging\n",
    "- Access control\n",
    "- Caching\n",
    "- Performance measurement\n",
    "- Web frameworks like Flask and Django"
   ]
  },
  {
   "cell_type": "code",
   "execution_count": null,
   "id": "6556103f",
   "metadata": {},
   "outputs": [
    {
     "name": "stdout",
     "output_type": "stream",
     "text": [
      "Something is happening before the function is called.\n",
      "Hello!\n",
      "Something is happening after the function is called.\n"
     ]
    }
   ],
   "source": [
    "# Basic decorator example\n",
    "def my_decorator(func):\n",
    "    def wrapper():\n",
    "        print(\"Something is happening before the function is called.\")\n",
    "       # func()\n",
    "        print(\"Something is happening after the function is called.\")\n",
    "    return wrapper\n",
    "\n",
    "@my_decorator\n",
    "def say_hello():\n",
    "    print(\"Hello!\")\n",
    "\n",
    "say_hello()\n",
    "# Output:\n",
    "# Something is happening before the function is called.\n",
    "# Hello!\n",
    "# Something is happening after the function is called.\n"
   ]
  },
  {
   "cell_type": "code",
   "execution_count": null,
   "id": "f392412b",
   "metadata": {},
   "outputs": [],
   "source": [
    "# Decorator with arguments\n",
    "def greet_decorator(func):\n",
    "    def wrapper(name):\n",
    "        print(\"Before function call\")\n",
    "        func(name)\n",
    "        print(\"After function call\")\n",
    "    return wrapper\n",
    "\n",
    "@greet_decorator\n",
    "def greet(name):\n",
    "    print(f\"Hello, {name}!\")\n",
    "\n",
    "greet(\"Hanif\")\n",
    "# Output:\n",
    "# Before function call\n",
    "# Hello, Hanif!\n",
    "# After function call\n"
   ]
  },
  {
   "cell_type": "code",
   "execution_count": null,
   "id": "da247dfa",
   "metadata": {},
   "outputs": [],
   "source": [
    "import time\n",
    "\n",
    "def timer_decorator(func):\n",
    "    def wrapper(*args, **kwargs):\n",
    "        start = time.time()\n",
    "        result = func(*args, **kwargs)\n",
    "        end = time.time()\n",
    "        print(f\"Function took {end - start:.4f} seconds\")\n",
    "        return result\n",
    "    return wrapper\n",
    "\n",
    "@timer_decorator\n",
    "def slow_function():\n",
    "    time.sleep(2)\n",
    "    print(\"Function complete.\")\n",
    "\n",
    "slow_function()\n",
    "# Output:\n",
    "# Function complete.\n",
    "# Function took 2.000x seconds\n"
   ]
  },
  {
   "cell_type": "markdown",
   "id": "92534d0f",
   "metadata": {},
   "source": [
    "## 🧠 Summary\n",
    "- Decorators help wrap functionality around existing functions.\n",
    "- Use `@decorator_name` syntax to apply decorators.\n",
    "- You can use `*args` and `**kwargs` to support any function signature.\n",
    "\n",
    "Decorators are powerful and widely used in **web development**, **logging**, and **performance monitoring**."
   ]
  }
 ],
 "metadata": {
  "kernelspec": {
   "display_name": "Awfera",
   "language": "python",
   "name": "python3"
  },
  "language_info": {
   "codemirror_mode": {
    "name": "ipython",
    "version": 3
   },
   "file_extension": ".py",
   "mimetype": "text/x-python",
   "name": "python",
   "nbconvert_exporter": "python",
   "pygments_lexer": "ipython3",
   "version": "3.10.18"
  }
 },
 "nbformat": 4,
 "nbformat_minor": 5
}
