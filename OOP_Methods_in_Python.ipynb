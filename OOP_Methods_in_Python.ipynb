{
 "cells": [
  {
   "cell_type": "markdown",
   "id": "df720acf",
   "metadata": {},
   "source": [
    "# Methods in Object-Oriented Programming (OOP)\n",
    "In Python, methods are functions defined inside a class and can be of different types: instance methods, class methods, and static methods."
   ]
  },
  {
   "cell_type": "markdown",
   "id": "73e8978e",
   "metadata": {},
   "source": [
    "## Instance Methods\n",
    "These operate on an instance of the class and can access and modify the object’s attributes."
   ]
  },
  {
   "cell_type": "code",
   "execution_count": null,
   "id": "7715304f",
   "metadata": {},
   "outputs": [],
   "source": [
    "class Car:\n",
    "    def __init__(self, brand, speed):\n",
    "        self.brand = brand\n",
    "        self.speed = speed\n",
    "\n",
    "    def accelerate(self, increment):\n",
    "        self.speed += increment\n",
    "        print(f\"{self.brand} is now going at {self.speed} km/h\")\n",
    "\n",
    "# Example usage\n",
    "my_car = Car(\"Toyota\", 100)\n",
    "my_car.accelerate(20)\n"
   ]
  },
  {
   "cell_type": "markdown",
   "id": "4d713272",
   "metadata": {},
   "source": [
    "## Class Methods\n",
    "These are bound to the class and not the instance. They are marked with `@classmethod`."
   ]
  },
  {
   "cell_type": "code",
   "execution_count": null,
   "id": "a368674f",
   "metadata": {},
   "outputs": [],
   "source": [
    "class Counter:\n",
    "    count = 0\n",
    "\n",
    "    @classmethod\n",
    "    def increment(cls):\n",
    "        cls.count += 1\n",
    "        print(f\"Current count is {cls.count}\")\n",
    "\n",
    "# Example usage\n",
    "Counter.increment()\n",
    "Counter.increment()\n"
   ]
  },
  {
   "cell_type": "markdown",
   "id": "2f55c001",
   "metadata": {},
   "source": [
    "## Static Methods\n",
    "These do not operate on an instance or class. They are utility methods and are marked with `@staticmethod`."
   ]
  },
  {
   "cell_type": "code",
   "execution_count": null,
   "id": "a2ea8a82",
   "metadata": {},
   "outputs": [],
   "source": [
    "class MathUtils:\n",
    "    @staticmethod\n",
    "    def add(x, y):\n",
    "        return x + y\n",
    "\n",
    "# Example usage\n",
    "print(\"Sum:\", MathUtils.add(5, 7))\n"
   ]
  }
 ],
 "metadata": {},
 "nbformat": 4,
 "nbformat_minor": 5
}