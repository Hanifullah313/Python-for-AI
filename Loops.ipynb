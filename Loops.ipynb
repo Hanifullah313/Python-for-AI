{
 "cells": [
  {
   "cell_type": "markdown",
   "id": "44c784a3",
   "metadata": {},
   "source": [
    "# 🔁 Python for AI – Loops\n",
    "\n",
    "In this notebook, we will learn how to **repeat actions** using loops. Loops are fundamental in programming, especially in **AI**, **data processing**, and **automation tasks**.\n",
    "\n",
    "---\n",
    "\n",
    "### 📚 You’ll Learn:\n",
    "- `for` loops\n",
    "- `while` loops\n",
    "- `break` and `continue`\n",
    "- Nested loops\n",
    "- Looping over data structures\n"
   ]
  },
  {
   "cell_type": "code",
   "execution_count": 2,
   "id": "e6715c7e",
   "metadata": {},
   "outputs": [
    {
     "name": "stdout",
     "output_type": "stream",
     "text": [
      "Counting from 1 to 5 using for loop:\n",
      "1\n",
      "2\n",
      "3\n",
      "4\n",
      "5\n",
      "List of fruits:\n",
      "apple\n",
      "banana\n",
      "cherry\n"
     ]
    }
   ],
   "source": [
    "\n",
    "print(\"Counting from 1 to 5 using for loop:\")\n",
    "\n",
    "for i in range(1, 6):\n",
    "    print(i)\n",
    "# 🎯 Loop through a list\n",
    "fruits = [\"apple\", \"banana\", \"cherry\"]\n",
    "\n",
    "print(\"List of fruits:\")\n",
    "for fruit in fruits:\n",
    "    print(fruit)\n"
   ]
  },
  {
   "cell_type": "markdown",
   "id": "20a1442e",
   "metadata": {},
   "source": [
    "## 🔄 WHILE Loops\n",
    "\n",
    "A `while` loop keeps running **as long as a condition is true**.\n",
    "It is used when the number of iterations is **not known in advance**.\n"
   ]
  },
  {
   "cell_type": "code",
   "execution_count": 3,
   "id": "ee8a96c1",
   "metadata": {},
   "outputs": [
    {
     "name": "stdout",
     "output_type": "stream",
     "text": [
      "Count is: 1\n",
      "Count is: 2\n",
      "Count is: 3\n",
      "Count is: 4\n",
      "Count is: 5\n"
     ]
    }
   ],
   "source": [
    "# 🔄 WHILE LOOP EXAMPLE\n",
    "count = 1\n",
    "\n",
    "while count <= 5:\n",
    "    print(\"Count is:\", count)\n",
    "    count += 1\n"
   ]
  },
  {
   "cell_type": "markdown",
   "id": "178e062e",
   "metadata": {},
   "source": [
    "## ⛔ break and continue\n",
    "\n",
    "- `break` → exits the loop completely\n",
    "- `continue` → skips the current iteration\n"
   ]
  },
  {
   "cell_type": "code",
   "execution_count": 5,
   "id": "9d31d156",
   "metadata": {},
   "outputs": [
    {
     "name": "stdout",
     "output_type": "stream",
     "text": [
      "Number: 0\n",
      "Number: 1\n",
      "Number: 2\n",
      "Number: 3\n",
      "Number: 4\n",
      "Number: 0\n",
      "Number: 1\n",
      "Number: 2\n",
      "Number: 4\n",
      "Number: 5\n"
     ]
    }
   ],
   "source": [
    "# ⛔ Using break\n",
    "for num in range(10):\n",
    "    if num == 5:\n",
    "        break\n",
    "    print(\"Number:\", num)\n",
    "    # ⏩ Using continue\n",
    "for num in range(6):\n",
    "    if num == 3:\n",
    "        continue\n",
    "    print(\"Number:\", num)\n",
    "\n"
   ]
  },
  {
   "cell_type": "markdown",
   "id": "71cab575",
   "metadata": {},
   "source": [
    "## 🔁 Nested Loops\n",
    "\n",
    "A loop inside another loop. Often used in 2D data (like tables, matrices).\n"
   ]
  },
  {
   "cell_type": "code",
   "execution_count": null,
   "id": "73117e5f",
   "metadata": {},
   "outputs": [],
   "source": [
    "# 🔁 Nested loop example\n",
    "for i in range(1, 4):\n",
    "    for j in range(1, 4):\n",
    "        print(f\"{i} x {j} = {i * j}\")\n"
   ]
  },
  {
   "cell_type": "markdown",
   "id": "3e23b318",
   "metadata": {},
   "source": [
    "## 🌀 Looping Over Strings and Dictionaries\n",
    "\n",
    "You can loop through **strings** character by character or **dictionaries** key-by-key.\n"
   ]
  },
  {
   "cell_type": "code",
   "execution_count": 7,
   "id": "f97b70fa",
   "metadata": {},
   "outputs": [
    {
     "name": "stdout",
     "output_type": "stream",
     "text": [
      "A\n",
      "I\n",
      "name → Hanif\n",
      "course → Python for AI\n",
      "level → Beginner\n"
     ]
    }
   ],
   "source": [
    "# 🔤 Loop through a string\n",
    "text = \"AI\"\n",
    "\n",
    "for char in text:\n",
    "    print(char)\n",
    "    # 📖 Loop through a dictionary\n",
    "student = {\n",
    "    \"name\": \"Hanif\",\n",
    "    \"course\": \"Python for AI\",\n",
    "    \"level\": \"Beginner\"\n",
    "}\n",
    "\n",
    "for key, value in student.items():\n",
    "    print(f\"{key} → {value}\")\n",
    "\n"
   ]
  },
  {
   "cell_type": "markdown",
   "id": "d918941d",
   "metadata": {},
   "source": [
    "## ✅ Summary of Loops\n",
    "\n",
    "| Loop Type  | When to Use                                |\n",
    "|------------|---------------------------------------------|\n",
    "| `for`      | When you know how many times to loop       |\n",
    "| `while`    | When condition controls the loop           |\n",
    "| `break`    | To exit a loop early                       |\n",
    "| `continue` | To skip one iteration and continue         |\n",
    "| Nested     | To handle 2D data, matrices, etc.          |\n",
    "\n",
    "✅ Loops help us repeat actions and process data efficiently — crucial for AI models and data preprocessing.\n",
    "\n",
    "🔜 Next up: **Conditional Statements in Python**\n"
   ]
  }
 ],
 "metadata": {
  "kernelspec": {
   "display_name": "Awfera",
   "language": "python",
   "name": "python3"
  },
  "language_info": {
   "codemirror_mode": {
    "name": "ipython",
    "version": 3
   },
   "file_extension": ".py",
   "mimetype": "text/x-python",
   "name": "python",
   "nbconvert_exporter": "python",
   "pygments_lexer": "ipython3",
   "version": "3.10.18"
  }
 },
 "nbformat": 4,
 "nbformat_minor": 5
}
