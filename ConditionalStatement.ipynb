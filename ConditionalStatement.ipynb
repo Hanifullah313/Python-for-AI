{
 "cells": [
  {
   "cell_type": "markdown",
   "id": "96d66db3",
   "metadata": {},
   "source": [
    "# ✅ Python for AI – Conditional Statements\n",
    "\n",
    "In this notebook, you'll learn how to make **decisions in Python** using conditional statements. These are essential for building logic in any AI model, automation, or interactive program.\n",
    "\n",
    "---\n",
    "\n",
    "## 📚 You’ll Learn:\n",
    "- `if`, `elif`, `else` statements\n",
    "- Comparison operators\n",
    "- Logical operators (`and`, `or`, `not`)\n",
    "- Nested conditionals\n",
    "- Conditional expressions\n"
   ]
  },
  {
   "cell_type": "code",
   "execution_count": 1,
   "id": "f9ff3d28",
   "metadata": {},
   "outputs": [
    {
     "name": "stdout",
     "output_type": "stream",
     "text": [
      "You are eligible to vote.\n",
      "Take an umbrella ☔\n"
     ]
    }
   ],
   "source": [
    "# ✅ Basic if statement\n",
    "age = 18\n",
    "\n",
    "if age >= 18:\n",
    "    print(\"You are eligible to vote.\")\n",
    "\n",
    "\n",
    "# 🔀 if-else statement\n",
    "is_raining = True\n",
    "\n",
    "if is_raining:\n",
    "    print(\"Take an umbrella ☔\")\n",
    "else:\n",
    "    print(\"Enjoy the sunshine ☀\")\n",
    "\n",
    "\n",
    "\n",
    "\n"
   ]
  },
  {
   "cell_type": "markdown",
   "id": "029ded34",
   "metadata": {},
   "source": [
    "## 🔁 Using `elif`\n",
    "\n",
    "`elif` allows you to check multiple conditions.\n"
   ]
  },
  {
   "cell_type": "code",
   "execution_count": 2,
   "id": "baab8e2b",
   "metadata": {},
   "outputs": [
    {
     "name": "stdout",
     "output_type": "stream",
     "text": [
      "Grade: B\n"
     ]
    }
   ],
   "source": [
    "# 🧠 Multi-branch decision\n",
    "score = 85\n",
    "\n",
    "if score >= 90:\n",
    "    print(\"Grade: A\")\n",
    "elif score >= 80:\n",
    "    print(\"Grade: B\")\n",
    "elif score >= 70:\n",
    "    print(\"Grade: C\")\n",
    "else:\n",
    "    print(\"Grade: F\")\n"
   ]
  },
  {
   "cell_type": "markdown",
   "id": "8eb50533",
   "metadata": {},
   "source": [
    "## 🔍 Comparison Operators\n",
    "\n",
    "Used to compare values:\n",
    "- `==` → equal\n",
    "- `!=` → not equal\n",
    "- `>` → greater than\n",
    "- `<` → less than\n",
    "- `>=` → greater than or equal to\n",
    "- `<=` → less than or equal to\n"
   ]
  },
  {
   "cell_type": "code",
   "execution_count": 3,
   "id": "81df5675",
   "metadata": {},
   "outputs": [
    {
     "name": "stdout",
     "output_type": "stream",
     "text": [
      "x == y: False\n",
      "x > y: True\n"
     ]
    }
   ],
   "source": [
    "# 🔍 Comparison example\n",
    "x = 10\n",
    "y = 5\n",
    "\n",
    "print(\"x == y:\", x == y)\n",
    "print(\"x > y:\", x > y)\n"
   ]
  },
  {
   "cell_type": "markdown",
   "id": "4032da64",
   "metadata": {},
   "source": [
    "## 🔗 Logical Operators\n",
    "\n",
    "- `and` → both conditions must be true\n",
    "- `or` → at least one must be true\n",
    "- `not` → inverts the condition\n"
   ]
  },
  {
   "cell_type": "code",
   "execution_count": 4,
   "id": "edac2f10",
   "metadata": {},
   "outputs": [
    {
     "name": "stdout",
     "output_type": "stream",
     "text": [
      "Access denied\n"
     ]
    }
   ],
   "source": [
    "# 🔗 Logical operators\n",
    "has_card = True\n",
    "has_pin = False\n",
    "\n",
    "if has_card and has_pin:\n",
    "    print(\"Access granted\")\n",
    "else:\n",
    "    print(\"Access denied\")\n"
   ]
  },
  {
   "cell_type": "markdown",
   "id": "134500aa",
   "metadata": {},
   "source": [
    "## 🧩 Nested Conditionals\n",
    "\n",
    "You can place an `if` inside another `if` to add more control.\n"
   ]
  },
  {
   "cell_type": "code",
   "execution_count": 5,
   "id": "fe57050a",
   "metadata": {},
   "outputs": [
    {
     "name": "stdout",
     "output_type": "stream",
     "text": [
      "Positive odd number\n"
     ]
    }
   ],
   "source": [
    "# 🧩 Nested if\n",
    "num = 7\n",
    "\n",
    "if num > 0:\n",
    "    if num % 2 == 0:\n",
    "        print(\"Positive even number\")\n",
    "    else:\n",
    "        print(\"Positive odd number\")\n"
   ]
  },
  {
   "cell_type": "markdown",
   "id": "cc51ce95",
   "metadata": {},
   "source": [
    "## ⚡ Ternary Conditional Expression\n",
    "\n",
    "A short way to write `if-else` in one line:\n"
   ]
  },
  {
   "cell_type": "code",
   "execution_count": 6,
   "id": "e1294801",
   "metadata": {},
   "outputs": [
    {
     "name": "stdout",
     "output_type": "stream",
     "text": [
      "Status: Minor\n"
     ]
    }
   ],
   "source": [
    "# ⚡ One-liner decision\n",
    "age = 16\n",
    "status = \"Adult\" if age >= 18 else \"Minor\"\n",
    "print(\"Status:\", status)\n"
   ]
  },
  {
   "cell_type": "markdown",
   "id": "bbc94a62",
   "metadata": {},
   "source": [
    "## ✅ Summary of Conditional Statements\n",
    "\n",
    "| Keyword   | Description                        |\n",
    "|-----------|------------------------------------|\n",
    "| `if`      | Executes a block if condition true |\n",
    "| `elif`    | Checks another condition if `if` false |\n",
    "| `else`    | Runs if none of the above match    |\n",
    "| `and/or`  | Combine multiple conditions        |\n",
    "| `not`     | Inverts a condition                |\n",
    "| Ternary   | Short-hand for if-else             |\n",
    "\n",
    "Conditional statements help us make smart decisions — just like we’ll do in AI programs.\n",
    "\n",
    "\n"
   ]
  }
 ],
 "metadata": {
  "kernelspec": {
   "display_name": "Awfera",
   "language": "python",
   "name": "python3"
  },
  "language_info": {
   "codemirror_mode": {
    "name": "ipython",
    "version": 3
   },
   "file_extension": ".py",
   "mimetype": "text/x-python",
   "name": "python",
   "nbconvert_exporter": "python",
   "pygments_lexer": "ipython3",
   "version": "3.10.18"
  }
 },
 "nbformat": 4,
 "nbformat_minor": 5
}
