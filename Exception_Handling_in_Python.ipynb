{
 "cells": [
  {
   "cell_type": "markdown",
   "id": "bac8e498",
   "metadata": {},
   "source": [
    "# 🛠️ Exception Handling in Python\n",
    "\n",
    "In this notebook, you'll learn how to use **exception handling** to make your code more robust and user-friendly.\n",
    "\n",
    "We'll cover:\n",
    "- `try` and `except` blocks\n",
    "- `else` and `finally`\n",
    "- Handling specific exceptions\n",
    "- Using `raise` to throw exceptions\n"
   ]
  },
  {
   "cell_type": "code",
   "execution_count": null,
   "id": "62e8f590",
   "metadata": {},
   "outputs": [],
   "source": [
    "# Basic try-except\n",
    "try:\n",
    "    x = int(\"abc\")  # This will raise a ValueError\n",
    "except ValueError:\n",
    "    print(\"Oops! That was not a valid number.\")\n"
   ]
  },
  {
   "cell_type": "code",
   "execution_count": null,
   "id": "22315691",
   "metadata": {},
   "outputs": [],
   "source": [
    "# try-except-else\n",
    "try:\n",
    "    num = int(\"42\")\n",
    "except ValueError:\n",
    "    print(\"Invalid input\")\n",
    "else:\n",
    "    print(\"Conversion successful:\", num)\n"
   ]
  },
  {
   "cell_type": "code",
   "execution_count": null,
   "id": "6f801ba4",
   "metadata": {},
   "outputs": [],
   "source": [
    "# try-except-finally\n",
    "try:\n",
    "    result = 10 / 0\n",
    "except ZeroDivisionError:\n",
    "    print(\"You can't divide by zero!\")\n",
    "finally:\n",
    "    print(\"This always runs, whether there was an exception or not.\")\n"
   ]
  },
  {
   "cell_type": "code",
   "execution_count": null,
   "id": "bb6bc26b",
   "metadata": {},
   "outputs": [],
   "source": [
    "# Handling multiple exceptions\n",
    "try:\n",
    "    lst = [1, 2, 3]\n",
    "    print(lst[5])\n",
    "except (IndexError, ValueError) as e:\n",
    "    print(f\"An error occurred: {e}\")\n"
   ]
  },
  {
   "cell_type": "code",
   "execution_count": null,
   "id": "56914909",
   "metadata": {},
   "outputs": [],
   "source": [
    "# Using raise to trigger exceptions\n",
    "def check_positive(num):\n",
    "    if num < 0:\n",
    "        raise ValueError(\"Number must be positive\")\n",
    "    return num\n",
    "\n",
    "try:\n",
    "    check_positive(-5)\n",
    "except ValueError as e:\n",
    "    print(\"Caught an exception:\", e)\n"
   ]
  }
 ],
 "metadata": {},
 "nbformat": 4,
 "nbformat_minor": 5
}