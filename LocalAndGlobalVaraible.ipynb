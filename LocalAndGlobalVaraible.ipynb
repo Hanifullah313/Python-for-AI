{
 "cells": [
  {
   "cell_type": "markdown",
   "id": "e709fbff",
   "metadata": {},
   "source": [
    "# 🧠 Python for AI – Variable Scope (Local vs Global)\n",
    "\n",
    "In Python, variables have a **scope**, which means **where** they are accessible. Understanding scope is important when using functions or writing modular code in AI projects.\n",
    "\n",
    "---\n",
    "\n",
    "## 📚 You’ll Learn:\n",
    "- What is variable scope?\n",
    "- Local variables\n",
    "- Global variables\n",
    "- How to use `global` keyword\n",
    "- Best practices\n",
    "    \n",
    "\n",
    "\n",
    "    ## 🔍 Variable Scope\n",
    "\n",
    "| Type     | Defined Where?            | Accessible Where?         |\n",
    "|----------|---------------------------|----------------------------|\n",
    "| Global   | Outside all functions      | Everywhere in the file     |\n",
    "| Local    | Inside a function          | Only inside that function  |\n"
   ]
  },
  {
   "cell_type": "code",
   "execution_count": null,
   "id": "b2b78c80",
   "metadata": {
    "vscode": {
     "languageId": "plaintext"
    }
   },
   "outputs": [],
   "source": [
    "# 🌍 Global variable\n",
    "language = \"Python\"\n",
    "\n",
    "def show_language():\n",
    "    print(\"Learning:\", language)\n",
    "\n",
    "show_language()\n",
    "\n",
    "\n",
    "\n",
    "# 🧭 Local variable\n",
    "def greet():\n",
    "    name = \"Hanif\"\n",
    "    print(\"Hello\", name)\n",
    "\n",
    "greet()\n",
    "# print(name)  # ❌ Error: name is not defined outside the function\n"
   ]
  },
  {
   "cell_type": "markdown",
   "id": "07d872de",
   "metadata": {},
   "source": [
    "## ✍️ Modifying a Global Variable Inside Function\n",
    "\n",
    "To change a global variable inside a function, use the `global` keyword.\n"
   ]
  },
  {
   "cell_type": "code",
   "execution_count": null,
   "id": "4c997c1a",
   "metadata": {
    "vscode": {
     "languageId": "plaintext"
    }
   },
   "outputs": [],
   "source": [
    "# 🛠 Using global keyword\n",
    "count = 0\n",
    "\n",
    "def increment():\n",
    "    global count\n",
    "    count += 1\n",
    "    print(\"Count is now:\", count)\n",
    "\n",
    "increment()\n",
    "increment()\n",
    "print(\"Final Count:\", count)\n",
    " "
   ]
  },
  {
   "cell_type": "markdown",
   "id": "69528434",
   "metadata": {},
   "source": [
    "## 💡 Best Practices\n",
    "\n",
    "- ✅ Use local variables when possible.\n",
    "- ⚠️ Avoid changing global variables inside functions unless necessary.\n",
    "- 🧼 Functions should be clean and not rely too much on outside/global data.\n",
    "\n",
    "This helps keep your code **modular**, **bug-free**, and **AI-ready**.\n",
    "    \n",
    "\n",
    "    ## ✅ Summary: Variable Scope\n",
    "\n",
    "| Scope   | Keyword | Lifespan          | Use Case                         |\n",
    "|---------|---------|-------------------|----------------------------------|\n",
    "| Global  | (none)  | Throughout file    | Shared across functions          |\n",
    "| Local   | (def)   | Inside function    | Temporary for a specific task    |\n",
    "\n",
    "Understanding variable scope ensures better control over memory and logic in your Python and AI programs.\n",
    "\n",
    "\n"
   ]
  }
 ],
 "metadata": {
  "language_info": {
   "name": "python"
  }
 },
 "nbformat": 4,
 "nbformat_minor": 5
}
